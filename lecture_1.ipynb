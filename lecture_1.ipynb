{
  "nbformat": 4,
  "nbformat_minor": 0,
  "metadata": {
    "colab": {
      "provenance": [],
      "gpuType": "T4"
    },
    "kernelspec": {
      "name": "python3",
      "display_name": "Python 3"
    },
    "language_info": {
      "name": "python"
    }
  },
  "cells": [
    {
      "cell_type": "code",
      "execution_count": null,
      "metadata": {
        "colab": {
          "base_uri": "https://localhost:8080/"
        },
        "id": "549BDqlcyaut",
        "outputId": "7caadc7a-1049-4725-fde6-fa5ca7938cc4"
      },
      "outputs": [
        {
          "output_type": "stream",
          "name": "stdout",
          "text": [
            "Tue Nov  7 03:21:17 2023       \n",
            "+-----------------------------------------------------------------------------+\n",
            "| NVIDIA-SMI 525.105.17   Driver Version: 525.105.17   CUDA Version: 12.0     |\n",
            "|-------------------------------+----------------------+----------------------+\n",
            "| GPU  Name        Persistence-M| Bus-Id        Disp.A | Volatile Uncorr. ECC |\n",
            "| Fan  Temp  Perf  Pwr:Usage/Cap|         Memory-Usage | GPU-Util  Compute M. |\n",
            "|                               |                      |               MIG M. |\n",
            "|===============================+======================+======================|\n",
            "|   0  Tesla T4            Off  | 00000000:00:04.0 Off |                    0 |\n",
            "| N/A   46C    P8     9W /  70W |      0MiB / 15360MiB |      0%      Default |\n",
            "|                               |                      |                  N/A |\n",
            "+-------------------------------+----------------------+----------------------+\n",
            "                                                                               \n",
            "+-----------------------------------------------------------------------------+\n",
            "| Processes:                                                                  |\n",
            "|  GPU   GI   CI        PID   Type   Process name                  GPU Memory |\n",
            "|        ID   ID                                                   Usage      |\n",
            "|=============================================================================|\n",
            "|  No running processes found                                                 |\n",
            "+-----------------------------------------------------------------------------+\n"
          ]
        }
      ],
      "source": [
        "# !nvidia-smi"
      ]
    },
    {
      "cell_type": "code",
      "source": [
        "print(\"Hello World\")"
      ],
      "metadata": {
        "colab": {
          "base_uri": "https://localhost:8080/"
        },
        "id": "yeaXV0T0y7Ib",
        "outputId": "ecdf0204-5449-4365-bde3-254542ebf80b"
      },
      "execution_count": null,
      "outputs": [
        {
          "output_type": "stream",
          "name": "stdout",
          "text": [
            "Hello World\n"
          ]
        }
      ]
    },
    {
      "cell_type": "code",
      "source": [
        "!python"
      ],
      "metadata": {
        "colab": {
          "base_uri": "https://localhost:8080/"
        },
        "id": "tKc5GJ-_zUvo",
        "outputId": "8c5cf11b-d903-4a81-b003-b7f8956d995a"
      },
      "execution_count": null,
      "outputs": [
        {
          "output_type": "stream",
          "name": "stdout",
          "text": [
            "Python 3.10.12 (main, Jun 11 2023, 05:26:28) [GCC 11.4.0] on linux\n",
            "Type \"help\", \"copyright\", \"credits\" or \"license\" for more information.\n",
            ">>> print(\"Hello\")\n",
            "Hello\n",
            ">>> \n",
            "\n",
            "KeyboardInterrupt\n",
            ">>> \n",
            "KeyboardInterrupt\n",
            ">>> ^C\n"
          ]
        }
      ]
    },
    {
      "cell_type": "code",
      "source": [
        "print(\"Hello\")\n",
        "print(\"Tarun Tiwari\")\n",
        "print(\"City: Jaipur\")"
      ],
      "metadata": {
        "colab": {
          "base_uri": "https://localhost:8080/"
        },
        "id": "SLbBrUPI0B4p",
        "outputId": "12aee119-0144-492b-ae38-b340d07e9976"
      },
      "execution_count": null,
      "outputs": [
        {
          "output_type": "stream",
          "name": "stdout",
          "text": [
            "Hello\n",
            "Tarun Tiwari\n",
            "City: Jaipur\n"
          ]
        }
      ]
    },
    {
      "cell_type": "code",
      "source": [
        "bowl = \"Sweets\"\n",
        "\n",
        "print(bowl)"
      ],
      "metadata": {
        "colab": {
          "base_uri": "https://localhost:8080/"
        },
        "id": "gyMqL36R0v0N",
        "outputId": "e858dae2-a85b-4850-a8ae-11f1e33b6eb9"
      },
      "execution_count": null,
      "outputs": [
        {
          "output_type": "stream",
          "name": "stdout",
          "text": [
            "Sweets\n"
          ]
        }
      ]
    },
    {
      "cell_type": "markdown",
      "source": [
        "### 1. Variables names can contains only letters, numbers and underscores.\n",
        "### 2. Spcaes are not allowed in variables names, but underscores can be used to seprate in variable names\n",
        "### 3. Avoid using Python keywords and function names as a variable name\n",
        "### 4. Varible name should be short but descriptive"
      ],
      "metadata": {
        "id": "G6dO_ZWK115V"
      }
    },
    {
      "cell_type": "code",
      "source": [
        "# True, False, await, else, import, pass\n",
        "# None, break, except, try, in, raise, class\n",
        "# finally, is, return, and, continue, for, lambda,\n",
        "# as, def, nonlocal, while, assert, del, global, not,\n",
        "# with, async, elif, if, or, yield"
      ],
      "metadata": {
        "id": "xkSrYZIp4CWz"
      },
      "execution_count": null,
      "outputs": []
    },
    {
      "cell_type": "code",
      "source": [
        "message = \"Hello India\"\n",
        "\n",
        "print(message)"
      ],
      "metadata": {
        "colab": {
          "base_uri": "https://localhost:8080/"
        },
        "id": "K8JmIEwr1TfH",
        "outputId": "6812347b-3203-461c-ae42-4a5fdd8520b5"
      },
      "execution_count": null,
      "outputs": [
        {
          "output_type": "stream",
          "name": "stdout",
          "text": [
            "Hello India\n"
          ]
        }
      ]
    },
    {
      "cell_type": "code",
      "source": [
        "message1 = \"Hello India\"\n",
        "\n",
        "print(message)"
      ],
      "metadata": {
        "colab": {
          "base_uri": "https://localhost:8080/"
        },
        "id": "XYgGMkHd2OsL",
        "outputId": "b77f4aed-d414-4401-b99e-37c02ca799cd"
      },
      "execution_count": null,
      "outputs": [
        {
          "output_type": "stream",
          "name": "stdout",
          "text": [
            "Hello India\n"
          ]
        }
      ]
    },
    {
      "cell_type": "code",
      "source": [
        "_message = \"Hello JI\"\n",
        "\n",
        "print(message)"
      ],
      "metadata": {
        "colab": {
          "base_uri": "https://localhost:8080/"
        },
        "id": "blcTcLgV2SHW",
        "outputId": "cbb503ed-d679-47b9-8459-da47896aa82f"
      },
      "execution_count": null,
      "outputs": [
        {
          "output_type": "stream",
          "name": "stdout",
          "text": [
            "Hello India\n"
          ]
        }
      ]
    },
    {
      "cell_type": "code",
      "source": [
        "id(message)"
      ],
      "metadata": {
        "colab": {
          "base_uri": "https://localhost:8080/"
        },
        "id": "CUqj_ITO2ht-",
        "outputId": "f3e8087f-4cc0-4684-fbda-06612ec2fc04"
      },
      "execution_count": null,
      "outputs": [
        {
          "output_type": "execute_result",
          "data": {
            "text/plain": [
              "132024448385072"
            ]
          },
          "metadata": {},
          "execution_count": 7
        }
      ]
    },
    {
      "cell_type": "code",
      "source": [
        "id(message1)"
      ],
      "metadata": {
        "colab": {
          "base_uri": "https://localhost:8080/"
        },
        "id": "qLwx2FX-2q7e",
        "outputId": "69f639b6-f824-453c-8530-e0fc534f3a37"
      },
      "execution_count": null,
      "outputs": [
        {
          "output_type": "execute_result",
          "data": {
            "text/plain": [
              "132024939998448"
            ]
          },
          "metadata": {},
          "execution_count": 8
        }
      ]
    },
    {
      "cell_type": "code",
      "source": [
        "id(_message)"
      ],
      "metadata": {
        "colab": {
          "base_uri": "https://localhost:8080/"
        },
        "id": "1Z1m8orp2ykh",
        "outputId": "5253aa79-14f6-43e6-dd91-810b9c5a36ee"
      },
      "execution_count": null,
      "outputs": [
        {
          "output_type": "execute_result",
          "data": {
            "text/plain": [
              "132024924917872"
            ]
          },
          "metadata": {},
          "execution_count": 9
        }
      ]
    },
    {
      "cell_type": "code",
      "source": [
        "my_name = \"Tarun Tiwari\""
      ],
      "metadata": {
        "id": "RBcYl1xG211z"
      },
      "execution_count": null,
      "outputs": []
    },
    {
      "cell_type": "code",
      "source": [
        "my_name"
      ],
      "metadata": {
        "colab": {
          "base_uri": "https://localhost:8080/",
          "height": 36
        },
        "id": "cR0rADC33W72",
        "outputId": "521316b1-30c1-4356-a1fe-778e30f6d8f5"
      },
      "execution_count": null,
      "outputs": [
        {
          "output_type": "execute_result",
          "data": {
            "text/plain": [
              "'Tarun Tiwari'"
            ],
            "application/vnd.google.colaboratory.intrinsic+json": {
              "type": "string"
            }
          },
          "metadata": {},
          "execution_count": 12
        }
      ]
    },
    {
      "cell_type": "code",
      "source": [
        "name = \"tarun Tiwari\""
      ],
      "metadata": {
        "id": "AHwhU7Jg3eGa"
      },
      "execution_count": null,
      "outputs": []
    },
    {
      "cell_type": "markdown",
      "source": [
        "Types of Variables\n",
        "\n",
        "  * String, List, dict, tuple, set, int, float, complex, bool\n",
        "\n",
        "\n",
        "  ##### Number (int / float / complex)\n",
        "          14    10.89   1+3j\n",
        "  ##### Sequence (String, list, Tuple)\n",
        "          string = \"A b cDEF\"\n",
        "          list = [1, 3, 5, 6, 44.5, \"Tarun\", [1, 3]]\n",
        "          tuple = (3.4, 4, \"tuple\")\n",
        "\n",
        "  ##### Set = {2, 4, 6}\n",
        "  ##### bool = True / False (1/0)\n",
        "\n",
        "  * key and values\n",
        " ##### mapping = (dict) = {\"A\": \"Apple\", \"B\": \"Ball\"}"
      ],
      "metadata": {
        "id": "Gt-tkWfM5x9K"
      }
    },
    {
      "cell_type": "code",
      "source": [
        "city = \"Jaipur\""
      ],
      "metadata": {
        "id": "WohZm2BF4_t2"
      },
      "execution_count": null,
      "outputs": []
    },
    {
      "cell_type": "code",
      "source": [
        "# str city = \"Jaipur\"\n",
        "A = 100.0\n"
      ],
      "metadata": {
        "id": "DowOY2_t8mJA"
      },
      "execution_count": null,
      "outputs": []
    },
    {
      "cell_type": "code",
      "source": [
        "type(A)"
      ],
      "metadata": {
        "colab": {
          "base_uri": "https://localhost:8080/"
        },
        "id": "CLLlU8EP8wKC",
        "outputId": "98095040-4c6a-4bd4-b104-45a40ef21b40"
      },
      "execution_count": null,
      "outputs": [
        {
          "output_type": "execute_result",
          "data": {
            "text/plain": [
              "float"
            ]
          },
          "metadata": {},
          "execution_count": 10
        }
      ]
    },
    {
      "cell_type": "code",
      "source": [
        "type(city)"
      ],
      "metadata": {
        "colab": {
          "base_uri": "https://localhost:8080/"
        },
        "id": "2WRrPoBt7st2",
        "outputId": "404cc3a8-0e0a-44a2-fa6c-085dd2535583"
      },
      "execution_count": null,
      "outputs": [
        {
          "output_type": "execute_result",
          "data": {
            "text/plain": [
              "str"
            ]
          },
          "metadata": {},
          "execution_count": 5
        }
      ]
    },
    {
      "cell_type": "code",
      "source": [
        "my_message = \"Hello Tech World\"\n",
        "name = \"Tarun Tiwari\"\n",
        "coding = \"python\""
      ],
      "metadata": {
        "id": "q5fX6vMj8jwT"
      },
      "execution_count": null,
      "outputs": []
    },
    {
      "cell_type": "code",
      "source": [
        "# f formating\n",
        "print(\"My name is \",name, \"I do coding in \",coding)"
      ],
      "metadata": {
        "colab": {
          "base_uri": "https://localhost:8080/"
        },
        "id": "PEjnlLQp87uZ",
        "outputId": "7b1ad5ca-f163-458c-b792-20fbf85df948"
      },
      "execution_count": null,
      "outputs": [
        {
          "output_type": "stream",
          "name": "stdout",
          "text": [
            "My name is  Tarun Tiwari I do coding in  python\n"
          ]
        }
      ]
    },
    {
      "cell_type": "code",
      "source": [
        "age = 20\n",
        "print(f\"My name is {name} and I do coding in {coding} {age}\")"
      ],
      "metadata": {
        "colab": {
          "base_uri": "https://localhost:8080/"
        },
        "id": "pOUUclW19BXV",
        "outputId": "6429229a-c644-42ed-abc8-4753eda4ccb3"
      },
      "execution_count": null,
      "outputs": [
        {
          "output_type": "stream",
          "name": "stdout",
          "text": [
            "My name is Tarun Tiwari and I do coding in python 20\n"
          ]
        }
      ]
    },
    {
      "cell_type": "code",
      "source": [
        "print(\"My Name is {} \\n and i do coding in {}, \\t my age is {}\".format(name, coding, age))"
      ],
      "metadata": {
        "colab": {
          "base_uri": "https://localhost:8080/"
        },
        "id": "SiPG5n0q92mD",
        "outputId": "2886ed03-2106-4843-92fa-de4f12bbeb23"
      },
      "execution_count": null,
      "outputs": [
        {
          "output_type": "stream",
          "name": "stdout",
          "text": [
            "My Name is Tarun Tiwari \n",
            " and i do coding in python, \t my age is 20\n"
          ]
        }
      ]
    },
    {
      "cell_type": "code",
      "source": [
        "print(my_message)"
      ],
      "metadata": {
        "colab": {
          "base_uri": "https://localhost:8080/"
        },
        "id": "S7W-2lnI9BPd",
        "outputId": "d2e38b83-e4fd-4301-c876-00d89ebe2b14"
      },
      "execution_count": null,
      "outputs": [
        {
          "output_type": "stream",
          "name": "stdout",
          "text": [
            "Hello Tech World\n"
          ]
        }
      ]
    },
    {
      "cell_type": "markdown",
      "source": [
        "# Heading 1\n",
        "## Heading 2\n",
        "### Heading 3\n",
        "#### Heading 4\n",
        "\n",
        "* Jaipur City\n",
        "\n",
        "[link](https://www.google.co.in/)\n",
        "\n",
        "**Jaipur City**\n",
        "\n",
        "*Jaipur City*"
      ],
      "metadata": {
        "id": "S2swTuyD-owu"
      }
    },
    {
      "cell_type": "markdown",
      "source": [
        "### String = A String is a series of chars, anything inside quotes is considered as a string\n",
        "\n",
        "\"\"\n",
        "''\n"
      ],
      "metadata": {
        "id": "MONQ5mko_PMw"
      }
    },
    {
      "cell_type": "code",
      "source": [
        "message = \"My name is Tarun my age is 23\""
      ],
      "metadata": {
        "id": "LzR_GppB9BMS"
      },
      "execution_count": null,
      "outputs": []
    },
    {
      "cell_type": "code",
      "source": [
        "type(message)"
      ],
      "metadata": {
        "colab": {
          "base_uri": "https://localhost:8080/"
        },
        "id": "Cf0Y-vyL-ZDY",
        "outputId": "b63acbae-47b2-416c-ded2-34bcf6254ef2"
      },
      "execution_count": null,
      "outputs": [
        {
          "output_type": "execute_result",
          "data": {
            "text/plain": [
              "str"
            ]
          },
          "metadata": {},
          "execution_count": 26
        }
      ]
    },
    {
      "cell_type": "code",
      "source": [
        "age = \"23 @#$%^&*\""
      ],
      "metadata": {
        "id": "qjGZ7Uv0-bmt"
      },
      "execution_count": null,
      "outputs": []
    },
    {
      "cell_type": "code",
      "source": [
        "type(age)"
      ],
      "metadata": {
        "colab": {
          "base_uri": "https://localhost:8080/"
        },
        "id": "oA_WQ-HT-d1G",
        "outputId": "01339b31-5b5c-44cf-a56a-fc04a9054e1c"
      },
      "execution_count": null,
      "outputs": [
        {
          "output_type": "execute_result",
          "data": {
            "text/plain": [
              "str"
            ]
          },
          "metadata": {},
          "execution_count": 30
        }
      ]
    },
    {
      "cell_type": "code",
      "source": [
        "age = '23 @#$%^&*'"
      ],
      "metadata": {
        "id": "Az2vSHCr-ggb"
      },
      "execution_count": null,
      "outputs": []
    },
    {
      "cell_type": "code",
      "source": [
        "type(age)"
      ],
      "metadata": {
        "colab": {
          "base_uri": "https://localhost:8080/"
        },
        "id": "t_oWszcX_cPz",
        "outputId": "1dca5c7c-6981-4513-b049-0da7708a1056"
      },
      "execution_count": null,
      "outputs": [
        {
          "output_type": "execute_result",
          "data": {
            "text/plain": [
              "str"
            ]
          },
          "metadata": {},
          "execution_count": 32
        }
      ]
    },
    {
      "cell_type": "code",
      "source": [
        "name = \"tarunn tiwariii\""
      ],
      "metadata": {
        "id": "OMhw-pbF_dFT"
      },
      "execution_count": null,
      "outputs": []
    },
    {
      "cell_type": "code",
      "source": [
        "print(name)"
      ],
      "metadata": {
        "colab": {
          "base_uri": "https://localhost:8080/"
        },
        "id": "f99dP3o3_3Ux",
        "outputId": "012618c7-5ef7-4fa9-be94-6ab104759dd6"
      },
      "execution_count": null,
      "outputs": [
        {
          "output_type": "stream",
          "name": "stdout",
          "text": [
            "tarunn tiwariii\n"
          ]
        }
      ]
    },
    {
      "cell_type": "code",
      "source": [
        "name.title()"
      ],
      "metadata": {
        "colab": {
          "base_uri": "https://localhost:8080/",
          "height": 36
        },
        "id": "TFwK5r70_is3",
        "outputId": "a64fe5fb-3649-40a6-a848-39bd609bbd65"
      },
      "execution_count": null,
      "outputs": [
        {
          "output_type": "execute_result",
          "data": {
            "text/plain": [
              "'Tarunn Tiwariii'"
            ],
            "application/vnd.google.colaboratory.intrinsic+json": {
              "type": "string"
            }
          },
          "metadata": {},
          "execution_count": 37
        }
      ]
    },
    {
      "cell_type": "code",
      "source": [
        "name = \"TAEUNR TIWAERI\""
      ],
      "metadata": {
        "id": "OdCBxnmz_zvY"
      },
      "execution_count": null,
      "outputs": []
    },
    {
      "cell_type": "code",
      "source": [
        "name.lower()"
      ],
      "metadata": {
        "colab": {
          "base_uri": "https://localhost:8080/",
          "height": 36
        },
        "id": "0b5Qc0lG_-Bo",
        "outputId": "b5776b5e-eec5-49f1-e0f6-e317a25ea0f6"
      },
      "execution_count": null,
      "outputs": [
        {
          "output_type": "execute_result",
          "data": {
            "text/plain": [
              "'taeunr tiwaeri'"
            ],
            "application/vnd.google.colaboratory.intrinsic+json": {
              "type": "string"
            }
          },
          "metadata": {},
          "execution_count": 39
        }
      ]
    },
    {
      "cell_type": "code",
      "source": [
        "name = \"tarunn tiwariii\""
      ],
      "metadata": {
        "id": "MSXmtOaf__Op"
      },
      "execution_count": null,
      "outputs": []
    },
    {
      "cell_type": "code",
      "source": [
        "name.upper()"
      ],
      "metadata": {
        "colab": {
          "base_uri": "https://localhost:8080/",
          "height": 36
        },
        "id": "4v0Sby3-ACnl",
        "outputId": "dc041b08-827b-41fa-9b82-85a32f140b43"
      },
      "execution_count": null,
      "outputs": [
        {
          "output_type": "execute_result",
          "data": {
            "text/plain": [
              "'TARUNN TIWARIII'"
            ],
            "application/vnd.google.colaboratory.intrinsic+json": {
              "type": "string"
            }
          },
          "metadata": {},
          "execution_count": 41
        }
      ]
    },
    {
      "cell_type": "code",
      "source": [
        "name = \"TaRuN\""
      ],
      "metadata": {
        "id": "mrm4MWUbAPG-"
      },
      "execution_count": null,
      "outputs": []
    },
    {
      "cell_type": "code",
      "source": [
        "name.swapcase()"
      ],
      "metadata": {
        "colab": {
          "base_uri": "https://localhost:8080/",
          "height": 36
        },
        "id": "3VQ1FtE1AD0x",
        "outputId": "4308d645-af43-469e-fcf2-349de14bc9f5"
      },
      "execution_count": null,
      "outputs": [
        {
          "output_type": "execute_result",
          "data": {
            "text/plain": [
              "'tArUn'"
            ],
            "application/vnd.google.colaboratory.intrinsic+json": {
              "type": "string"
            }
          },
          "metadata": {},
          "execution_count": 43
        }
      ]
    },
    {
      "cell_type": "code",
      "source": [
        "name.capitalize()"
      ],
      "metadata": {
        "colab": {
          "base_uri": "https://localhost:8080/",
          "height": 36
        },
        "id": "jytccYfXAWLI",
        "outputId": "f31d6225-4695-407b-d358-1e23cdcab229"
      },
      "execution_count": null,
      "outputs": [
        {
          "output_type": "execute_result",
          "data": {
            "text/plain": [
              "'Tarun'"
            ],
            "application/vnd.google.colaboratory.intrinsic+json": {
              "type": "string"
            }
          },
          "metadata": {},
          "execution_count": 44
        }
      ]
    },
    {
      "cell_type": "code",
      "source": [
        "name = \"tarunn tiwariii\""
      ],
      "metadata": {
        "id": "_rE2jDLwApRR"
      },
      "execution_count": null,
      "outputs": []
    },
    {
      "cell_type": "code",
      "source": [
        "name.count(\"i\")"
      ],
      "metadata": {
        "colab": {
          "base_uri": "https://localhost:8080/"
        },
        "id": "ajXTE_qxAuN3",
        "outputId": "12efe101-78d5-4d04-e3e8-3fd198fc8a0e"
      },
      "execution_count": null,
      "outputs": [
        {
          "output_type": "execute_result",
          "data": {
            "text/plain": [
              "4"
            ]
          },
          "metadata": {},
          "execution_count": 47
        }
      ]
    },
    {
      "cell_type": "code",
      "source": [
        "name = \"    tarun    \""
      ],
      "metadata": {
        "id": "ZP7pW_z5Ay_4"
      },
      "execution_count": null,
      "outputs": []
    },
    {
      "cell_type": "code",
      "source": [
        "name.lstrip()"
      ],
      "metadata": {
        "colab": {
          "base_uri": "https://localhost:8080/",
          "height": 36
        },
        "id": "rTyTkgSJA7Dr",
        "outputId": "0120b234-b556-48f6-d451-16101ca97e43"
      },
      "execution_count": null,
      "outputs": [
        {
          "output_type": "execute_result",
          "data": {
            "text/plain": [
              "'tarun    '"
            ],
            "application/vnd.google.colaboratory.intrinsic+json": {
              "type": "string"
            }
          },
          "metadata": {},
          "execution_count": 51
        }
      ]
    },
    {
      "cell_type": "code",
      "source": [
        "name.rstrip()"
      ],
      "metadata": {
        "colab": {
          "base_uri": "https://localhost:8080/",
          "height": 36
        },
        "id": "HIThRZG-A9Dk",
        "outputId": "a2e99635-7a97-4779-8088-44a87b1ea9ce"
      },
      "execution_count": null,
      "outputs": [
        {
          "output_type": "execute_result",
          "data": {
            "text/plain": [
              "'    tarun'"
            ],
            "application/vnd.google.colaboratory.intrinsic+json": {
              "type": "string"
            }
          },
          "metadata": {},
          "execution_count": 52
        }
      ]
    },
    {
      "cell_type": "code",
      "source": [
        "name.strip()"
      ],
      "metadata": {
        "colab": {
          "base_uri": "https://localhost:8080/",
          "height": 36
        },
        "id": "C_bCrvThBDrH",
        "outputId": "b727e0e7-63aa-42a5-f0a4-e973c1d4ad38"
      },
      "execution_count": null,
      "outputs": [
        {
          "output_type": "execute_result",
          "data": {
            "text/plain": [
              "'tarun'"
            ],
            "application/vnd.google.colaboratory.intrinsic+json": {
              "type": "string"
            }
          },
          "metadata": {},
          "execution_count": 53
        }
      ]
    },
    {
      "cell_type": "code",
      "source": [
        "name"
      ],
      "metadata": {
        "colab": {
          "base_uri": "https://localhost:8080/",
          "height": 36
        },
        "id": "WNKsUOvHBXL2",
        "outputId": "03ebeb43-f5d7-4675-ff16-be1a30a4065d"
      },
      "execution_count": null,
      "outputs": [
        {
          "output_type": "execute_result",
          "data": {
            "text/plain": [
              "'    tarun    '"
            ],
            "application/vnd.google.colaboratory.intrinsic+json": {
              "type": "string"
            }
          },
          "metadata": {},
          "execution_count": 55
        }
      ]
    },
    {
      "cell_type": "code",
      "source": [
        "name.replace(\"t\", \"V\")"
      ],
      "metadata": {
        "colab": {
          "base_uri": "https://localhost:8080/",
          "height": 36
        },
        "id": "Yb4dYpNGBF73",
        "outputId": "1e619bbf-cc44-4e66-8fd1-f0c420705b5d"
      },
      "execution_count": null,
      "outputs": [
        {
          "output_type": "execute_result",
          "data": {
            "text/plain": [
              "'    Varun    '"
            ],
            "application/vnd.google.colaboratory.intrinsic+json": {
              "type": "string"
            }
          },
          "metadata": {},
          "execution_count": 58
        }
      ]
    },
    {
      "cell_type": "markdown",
      "source": [
        "### List\n",
        "* list are the Python's most powerfull feature, readily acessible to new programers.\n",
        "* List is Collection of items in a particular order\n",
        "* its always good approch to make the name of your list plural(genric) name"
      ],
      "metadata": {
        "id": "ksGHVL8vCun3"
      }
    },
    {
      "cell_type": "markdown",
      "source": [
        "![download.jpeg](data:image/jpeg;base64,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)"
      ],
      "metadata": {
        "id": "SMfDKmRa_AbI"
      }
    },
    {
      "cell_type": "code",
      "source": [
        "          # 0       1        2         3       4       5    6\n",
        "name = [\"ice\", \"water\", \"bottle\", \"vegis\", \"fruits\", 12, 123.33]\n",
        "          # -7       -6       -5        -4      -3      -2    -1"
      ],
      "metadata": {
        "id": "7_Tas_Z9AiGP"
      },
      "execution_count": null,
      "outputs": []
    },
    {
      "cell_type": "code",
      "source": [
        "len(name)"
      ],
      "metadata": {
        "colab": {
          "base_uri": "https://localhost:8080/"
        },
        "id": "z9s9i8eWJLcA",
        "outputId": "676a07c6-39c5-4efa-b2a0-e8ff3dc35dc5"
      },
      "execution_count": null,
      "outputs": [
        {
          "output_type": "execute_result",
          "data": {
            "text/plain": [
              "7"
            ]
          },
          "metadata": {},
          "execution_count": 14
        }
      ]
    },
    {
      "cell_type": "code",
      "source": [
        "# Index always start from 0 and end with len - 1"
      ],
      "metadata": {
        "id": "BsxsJkHIIetl"
      },
      "execution_count": null,
      "outputs": []
    },
    {
      "cell_type": "code",
      "source": [
        "name[-4]"
      ],
      "metadata": {
        "colab": {
          "base_uri": "https://localhost:8080/",
          "height": 35
        },
        "id": "B4Okh4XiJZ-4",
        "outputId": "38f15dcf-c308-45e0-b0f1-69dde6332a94"
      },
      "execution_count": null,
      "outputs": [
        {
          "output_type": "execute_result",
          "data": {
            "text/plain": [
              "'vegis'"
            ],
            "application/vnd.google.colaboratory.intrinsic+json": {
              "type": "string"
            }
          },
          "metadata": {},
          "execution_count": 16
        }
      ]
    },
    {
      "cell_type": "code",
      "source": [
        "type(name)"
      ],
      "metadata": {
        "colab": {
          "base_uri": "https://localhost:8080/"
        },
        "id": "dp1hogq0Jbrk",
        "outputId": "77044627-fd00-4cca-8df3-a5dd9bd70f65"
      },
      "execution_count": null,
      "outputs": [
        {
          "output_type": "execute_result",
          "data": {
            "text/plain": [
              "list"
            ]
          },
          "metadata": {},
          "execution_count": 17
        }
      ]
    },
    {
      "cell_type": "markdown",
      "source": [
        "* Moddifying\n",
        "* Adding\n",
        "* Removing\n"
      ],
      "metadata": {
        "id": "kSLSdXQOJp5C"
      }
    },
    {
      "cell_type": "code",
      "source": [
        "motorcy = [\"honda\", \"yamaha\"]"
      ],
      "metadata": {
        "id": "ECaIWmdXJhOZ"
      },
      "execution_count": null,
      "outputs": []
    },
    {
      "cell_type": "code",
      "source": [
        "print(motorcy)"
      ],
      "metadata": {
        "colab": {
          "base_uri": "https://localhost:8080/"
        },
        "id": "4nzsWCe-J2l9",
        "outputId": "4dedd413-7826-4ef8-c4e0-6cfb2c6b31e3"
      },
      "execution_count": null,
      "outputs": [
        {
          "output_type": "stream",
          "name": "stdout",
          "text": [
            "['honda', 'yamaha']\n"
          ]
        }
      ]
    },
    {
      "cell_type": "code",
      "source": [
        "motorcy[0] = \"suzuki\""
      ],
      "metadata": {
        "id": "XVPpXouJJ3oC"
      },
      "execution_count": null,
      "outputs": []
    },
    {
      "cell_type": "code",
      "source": [
        "print(motorcy)"
      ],
      "metadata": {
        "colab": {
          "base_uri": "https://localhost:8080/"
        },
        "id": "-5UV7weiKAJX",
        "outputId": "9ab3e6da-2a40-467d-f0e9-c6ff9a3be5bf"
      },
      "execution_count": null,
      "outputs": [
        {
          "output_type": "stream",
          "name": "stdout",
          "text": [
            "['suzuki', 'yamaha']\n"
          ]
        }
      ]
    },
    {
      "cell_type": "code",
      "source": [
        "motorcy.append(\"ducati\")"
      ],
      "metadata": {
        "id": "JULxR-jVKENJ"
      },
      "execution_count": null,
      "outputs": []
    },
    {
      "cell_type": "code",
      "source": [
        "motorcy =  [\"honda\", \"yamaha\"]\n",
        "motorcy"
      ],
      "metadata": {
        "colab": {
          "base_uri": "https://localhost:8080/"
        },
        "id": "L24ad5OQKNGE",
        "outputId": "a1e0eb09-3ac5-4756-923b-545e910d57e6"
      },
      "execution_count": null,
      "outputs": [
        {
          "output_type": "execute_result",
          "data": {
            "text/plain": [
              "['honda', 'yamaha']"
            ]
          },
          "metadata": {},
          "execution_count": 27
        }
      ]
    },
    {
      "cell_type": "code",
      "source": [
        "motorcy.insert(0, \"ducati\")"
      ],
      "metadata": {
        "id": "QMgBHsmIKNop"
      },
      "execution_count": null,
      "outputs": []
    },
    {
      "cell_type": "code",
      "source": [
        "motorcy =['ducati', 'honda', 'yamaha']"
      ],
      "metadata": {
        "id": "rblbLLo-KmLP"
      },
      "execution_count": null,
      "outputs": []
    },
    {
      "cell_type": "code",
      "source": [
        "del motorcy[2]"
      ],
      "metadata": {
        "id": "AMyK702XKm8R"
      },
      "execution_count": null,
      "outputs": []
    },
    {
      "cell_type": "code",
      "source": [
        "motorcy"
      ],
      "metadata": {
        "colab": {
          "base_uri": "https://localhost:8080/"
        },
        "id": "Gt_nno4PK0yT",
        "outputId": "91310da1-890a-44b6-8c81-6369d0218e6f"
      },
      "execution_count": null,
      "outputs": [
        {
          "output_type": "execute_result",
          "data": {
            "text/plain": [
              "['ducati', 'honda', 'yamaha']"
            ]
          },
          "metadata": {},
          "execution_count": 33
        }
      ]
    },
    {
      "cell_type": "code",
      "source": [
        "removed_bike = motorcy.pop(2)"
      ],
      "metadata": {
        "id": "nBlZbFcGK1wU"
      },
      "execution_count": null,
      "outputs": []
    },
    {
      "cell_type": "code",
      "source": [
        "print(f\"We removed this vale {removed_bike}\")"
      ],
      "metadata": {
        "colab": {
          "base_uri": "https://localhost:8080/"
        },
        "id": "AZeC-W7eK_M-",
        "outputId": "eacfed60-c1af-4af6-a221-38f178763f4e"
      },
      "execution_count": null,
      "outputs": [
        {
          "output_type": "stream",
          "name": "stdout",
          "text": [
            "We removed this vale yamaha\n"
          ]
        }
      ]
    },
    {
      "cell_type": "code",
      "source": [
        "motorcy =['ducati', 'honda', 'yamaha']"
      ],
      "metadata": {
        "id": "AAZXTmFRLKEe"
      },
      "execution_count": null,
      "outputs": []
    },
    {
      "cell_type": "code",
      "source": [
        "motorcy.remove(\"honda\")"
      ],
      "metadata": {
        "id": "MZKJAP24LPrO"
      },
      "execution_count": null,
      "outputs": []
    },
    {
      "cell_type": "code",
      "source": [
        "motorcy"
      ],
      "metadata": {
        "colab": {
          "base_uri": "https://localhost:8080/"
        },
        "id": "Haz_X1ajLTzx",
        "outputId": "7f3bd7d7-dc69-4a94-9790-7cb530171eb4"
      },
      "execution_count": null,
      "outputs": [
        {
          "output_type": "execute_result",
          "data": {
            "text/plain": [
              "['ducati', 'yamaha']"
            ]
          },
          "metadata": {},
          "execution_count": 43
        }
      ]
    },
    {
      "cell_type": "code",
      "source": [
        "cars = ['bmw', 'audi', 'toyota']"
      ],
      "metadata": {
        "id": "IpXxKfvWLa6j"
      },
      "execution_count": null,
      "outputs": []
    },
    {
      "cell_type": "code",
      "source": [
        "cars"
      ],
      "metadata": {
        "colab": {
          "base_uri": "https://localhost:8080/"
        },
        "id": "SNZEvVQ2Lx0x",
        "outputId": "14fe01f0-b1b8-4b7e-b5b5-12c7ffb11615"
      },
      "execution_count": null,
      "outputs": [
        {
          "output_type": "execute_result",
          "data": {
            "text/plain": [
              "['bmw', 'audi', 'toyota']"
            ]
          },
          "metadata": {},
          "execution_count": 45
        }
      ]
    },
    {
      "cell_type": "code",
      "source": [
        "cars.sort()"
      ],
      "metadata": {
        "id": "xcaZ2-GmLzi6"
      },
      "execution_count": null,
      "outputs": []
    },
    {
      "cell_type": "code",
      "source": [
        "cars"
      ],
      "metadata": {
        "colab": {
          "base_uri": "https://localhost:8080/"
        },
        "id": "DVEqjvatL8iA",
        "outputId": "2d16831e-af57-4ab6-8a62-912b806d06d5"
      },
      "execution_count": null,
      "outputs": [
        {
          "output_type": "execute_result",
          "data": {
            "text/plain": [
              "['audi', 'bmw', 'toyota']"
            ]
          },
          "metadata": {},
          "execution_count": 47
        }
      ]
    },
    {
      "cell_type": "code",
      "source": [
        "cars.sort(reverse=True)"
      ],
      "metadata": {
        "id": "TeJA9S0gL_8w"
      },
      "execution_count": null,
      "outputs": []
    },
    {
      "cell_type": "code",
      "source": [
        "cars"
      ],
      "metadata": {
        "colab": {
          "base_uri": "https://localhost:8080/"
        },
        "id": "ZPexHOCBMEpc",
        "outputId": "22fa911b-51c7-4978-a4f7-165923a8dcfa"
      },
      "execution_count": null,
      "outputs": [
        {
          "output_type": "execute_result",
          "data": {
            "text/plain": [
              "['toyota', 'bmw', 'audi']"
            ]
          },
          "metadata": {},
          "execution_count": 49
        }
      ]
    },
    {
      "cell_type": "code",
      "source": [
        "cars = ['bmw', 'audi', 'toyota']"
      ],
      "metadata": {
        "id": "LaMbZnZNMGcu"
      },
      "execution_count": null,
      "outputs": []
    },
    {
      "cell_type": "code",
      "source": [
        "cars.reverse()"
      ],
      "metadata": {
        "id": "uyVIpg0tML_b"
      },
      "execution_count": null,
      "outputs": []
    },
    {
      "cell_type": "code",
      "source": [
        "cars"
      ],
      "metadata": {
        "colab": {
          "base_uri": "https://localhost:8080/"
        },
        "id": "ldoN2wwwMOmZ",
        "outputId": "fc3fa599-8d1a-4ded-e893-bcfb1a237d6d"
      },
      "execution_count": null,
      "outputs": [
        {
          "output_type": "execute_result",
          "data": {
            "text/plain": [
              "['toyota', 'audi', 'bmw']"
            ]
          },
          "metadata": {},
          "execution_count": 52
        }
      ]
    },
    {
      "cell_type": "code",
      "source": [
        "cars[::-1]"
      ],
      "metadata": {
        "colab": {
          "base_uri": "https://localhost:8080/"
        },
        "id": "AhWY8lX9MPn2",
        "outputId": "8901fbbc-0218-46d9-82e7-0684c7c4b2e3"
      },
      "execution_count": null,
      "outputs": [
        {
          "output_type": "execute_result",
          "data": {
            "text/plain": [
              "['toyota', 'audi', 'bmw']"
            ]
          },
          "metadata": {},
          "execution_count": 54
        }
      ]
    },
    {
      "cell_type": "code",
      "source": [
        "sorted(cars)"
      ],
      "metadata": {
        "colab": {
          "base_uri": "https://localhost:8080/"
        },
        "id": "ee7z9uDoMS-w",
        "outputId": "d5909977-6c65-4875-99e0-c59925f308ab"
      },
      "execution_count": null,
      "outputs": [
        {
          "output_type": "execute_result",
          "data": {
            "text/plain": [
              "['audi', 'bmw', 'toyota']"
            ]
          },
          "metadata": {},
          "execution_count": 55
        }
      ]
    },
    {
      "cell_type": "code",
      "source": [
        "ages = [1, 2, 3, 4, 5, 6, 7, 8, 9, 10, 22, 23, 34, 45, 56, 78]"
      ],
      "metadata": {
        "id": "S3zilgpPMaBx"
      },
      "execution_count": 10,
      "outputs": []
    },
    {
      "cell_type": "code",
      "source": [
        "len(ages)"
      ],
      "metadata": {
        "colab": {
          "base_uri": "https://localhost:8080/"
        },
        "id": "ZsWtHpGUMitj",
        "outputId": "64c70ba5-206f-45a3-dbc9-e3e9f0b411a7"
      },
      "execution_count": null,
      "outputs": [
        {
          "output_type": "execute_result",
          "data": {
            "text/plain": [
              "16"
            ]
          },
          "metadata": {},
          "execution_count": 57
        }
      ]
    },
    {
      "cell_type": "code",
      "source": [
        "# ages[start_index:end_index-1]"
      ],
      "metadata": {
        "id": "giNiASBiMwYN"
      },
      "execution_count": null,
      "outputs": []
    },
    {
      "cell_type": "code",
      "source": [
        "ages[10:]"
      ],
      "metadata": {
        "colab": {
          "base_uri": "https://localhost:8080/"
        },
        "id": "0b1W_WFzMj_m",
        "outputId": "5d8a0f5a-a2d0-4c17-ddd9-a6bb61c5bece"
      },
      "execution_count": null,
      "outputs": [
        {
          "output_type": "execute_result",
          "data": {
            "text/plain": [
              "[22, 23, 34, 45, 56, 78]"
            ]
          },
          "metadata": {},
          "execution_count": 62
        }
      ]
    },
    {
      "cell_type": "code",
      "source": [
        "ages[:10]"
      ],
      "metadata": {
        "colab": {
          "base_uri": "https://localhost:8080/"
        },
        "id": "sEpspdIfMng3",
        "outputId": "391934ae-e08b-44bc-dda3-fd3cccf201b3"
      },
      "execution_count": null,
      "outputs": [
        {
          "output_type": "execute_result",
          "data": {
            "text/plain": [
              "[1, 2, 3, 4, 5, 6, 7, 8, 9, 10]"
            ]
          },
          "metadata": {},
          "execution_count": 65
        }
      ]
    },
    {
      "cell_type": "code",
      "source": [
        "ages[9:13]"
      ],
      "metadata": {
        "colab": {
          "base_uri": "https://localhost:8080/"
        },
        "id": "9ySaVEJJNCMf",
        "outputId": "c8e62188-d607-44db-c79f-4f9f2533e45e"
      },
      "execution_count": null,
      "outputs": [
        {
          "output_type": "execute_result",
          "data": {
            "text/plain": [
              "[10, 22, 23, 34]"
            ]
          },
          "metadata": {},
          "execution_count": 67
        }
      ]
    },
    {
      "cell_type": "code",
      "source": [
        "ages = [1, 2, 3, 4, 5, 6, 7, 8, 9, 10, 22, 23, 34, 45, 56, 78]"
      ],
      "metadata": {
        "id": "xueP5O5ONN2r"
      },
      "execution_count": null,
      "outputs": []
    },
    {
      "cell_type": "code",
      "source": [
        "ages"
      ],
      "metadata": {
        "colab": {
          "base_uri": "https://localhost:8080/"
        },
        "id": "x85bF3QhO8U2",
        "outputId": "869399f5-39c4-4d93-ff82-ee9d31ba1872"
      },
      "execution_count": null,
      "outputs": [
        {
          "output_type": "execute_result",
          "data": {
            "text/plain": [
              "[1, 2, 3, 4, 5, 6, 7, 8, 9, 10, 22, 23, 34, 45, 56, 78]"
            ]
          },
          "metadata": {},
          "execution_count": 10
        }
      ]
    },
    {
      "cell_type": "code",
      "source": [
        "counting = list(range(20))"
      ],
      "metadata": {
        "id": "TITZAlWzQbn0"
      },
      "execution_count": null,
      "outputs": []
    },
    {
      "cell_type": "code",
      "source": [
        "counting"
      ],
      "metadata": {
        "colab": {
          "base_uri": "https://localhost:8080/"
        },
        "id": "W8xK1fmHQkkV",
        "outputId": "dec189ac-e8f2-4724-8d01-5c5f2f09b7e4"
      },
      "execution_count": null,
      "outputs": [
        {
          "output_type": "execute_result",
          "data": {
            "text/plain": [
              "[0, 1, 2, 3, 4, 5, 6, 7, 8, 9, 10, 11, 12, 13, 14, 15, 16, 17, 18, 19]"
            ]
          },
          "metadata": {},
          "execution_count": 12
        }
      ]
    },
    {
      "cell_type": "code",
      "source": [
        "len(counting)\n",
        "\n",
        "# Iteration"
      ],
      "metadata": {
        "colab": {
          "base_uri": "https://localhost:8080/"
        },
        "id": "AaNKHCnIPAGW",
        "outputId": "0f8b01a1-576e-4fc9-9850-b5742e5f1c83"
      },
      "execution_count": null,
      "outputs": [
        {
          "output_type": "execute_result",
          "data": {
            "text/plain": [
              "20"
            ]
          },
          "metadata": {},
          "execution_count": 13
        }
      ]
    },
    {
      "cell_type": "code",
      "source": [
        "counting = list(range(20))"
      ],
      "metadata": {
        "id": "eOHZGgO1P5sk"
      },
      "execution_count": 1,
      "outputs": []
    },
    {
      "cell_type": "code",
      "source": [
        "print(counting)"
      ],
      "metadata": {
        "colab": {
          "base_uri": "https://localhost:8080/"
        },
        "id": "6le2rkWEPrAX",
        "outputId": "40f634b5-9f55-4b16-a1a3-a3eba6595fd1"
      },
      "execution_count": 3,
      "outputs": [
        {
          "output_type": "stream",
          "name": "stdout",
          "text": [
            "[0, 1, 2, 3, 4, 5, 6, 7, 8, 9, 10, 11, 12, 13, 14, 15, 16, 17, 18, 19]\n"
          ]
        }
      ]
    },
    {
      "cell_type": "code",
      "source": [
        "for i in counting:\n",
        "  print(\"iter\", i)"
      ],
      "metadata": {
        "colab": {
          "base_uri": "https://localhost:8080/"
        },
        "id": "w8goLP6oP_wc",
        "outputId": "2d5542f5-3622-4e5e-83a9-478b42d55316"
      },
      "execution_count": 4,
      "outputs": [
        {
          "output_type": "stream",
          "name": "stdout",
          "text": [
            "iter 0\n",
            "iter 1\n",
            "iter 2\n",
            "iter 3\n",
            "iter 4\n",
            "iter 5\n",
            "iter 6\n",
            "iter 7\n",
            "iter 8\n",
            "iter 9\n",
            "iter 10\n",
            "iter 11\n",
            "iter 12\n",
            "iter 13\n",
            "iter 14\n",
            "iter 15\n",
            "iter 16\n",
            "iter 17\n",
            "iter 18\n",
            "iter 19\n"
          ]
        }
      ]
    },
    {
      "cell_type": "code",
      "source": [
        "for i in counting:\n",
        "  print(\"SQ\", i*i)"
      ],
      "metadata": {
        "colab": {
          "base_uri": "https://localhost:8080/"
        },
        "id": "PRU-NLT4Qp2D",
        "outputId": "fd08b7a9-4618-473e-8cc8-4bf6d62a9fdd"
      },
      "execution_count": 5,
      "outputs": [
        {
          "output_type": "stream",
          "name": "stdout",
          "text": [
            "SQ 0\n",
            "SQ 1\n",
            "SQ 4\n",
            "SQ 9\n",
            "SQ 16\n",
            "SQ 25\n",
            "SQ 36\n",
            "SQ 49\n",
            "SQ 64\n",
            "SQ 81\n",
            "SQ 100\n",
            "SQ 121\n",
            "SQ 144\n",
            "SQ 169\n",
            "SQ 196\n",
            "SQ 225\n",
            "SQ 256\n",
            "SQ 289\n",
            "SQ 324\n",
            "SQ 361\n"
          ]
        }
      ]
    },
    {
      "cell_type": "code",
      "source": [
        "for i in counting:\n",
        "  print(\"iter\", i)\n",
        "  print(\"X\")\n",
        "  print(\"Y\")\n",
        "\n",
        "print(\"Hello\")"
      ],
      "metadata": {
        "id": "erLK5JstQvDx"
      },
      "execution_count": null,
      "outputs": []
    },
    {
      "cell_type": "code",
      "source": [
        "for i in counting:\n",
        "  print(\"SQ\", i*i)"
      ],
      "metadata": {
        "colab": {
          "base_uri": "https://localhost:8080/"
        },
        "id": "-PromlPCQ1pj",
        "outputId": "38c61b8d-5394-42aa-a5bb-c9823c48b018"
      },
      "execution_count": null,
      "outputs": [
        {
          "output_type": "stream",
          "name": "stdout",
          "text": [
            "SQ 0\n",
            "SQ 1\n",
            "SQ 4\n",
            "SQ 9\n",
            "SQ 16\n",
            "SQ 25\n",
            "SQ 36\n",
            "SQ 49\n",
            "SQ 64\n",
            "SQ 81\n",
            "SQ 100\n",
            "SQ 121\n",
            "SQ 144\n",
            "SQ 169\n",
            "SQ 196\n",
            "SQ 225\n",
            "SQ 256\n",
            "SQ 289\n",
            "SQ 324\n",
            "SQ 361\n"
          ]
        }
      ]
    },
    {
      "cell_type": "markdown",
      "source": [
        "### List Comprehensions"
      ],
      "metadata": {
        "id": "PFUsZPHCRxcx"
      }
    },
    {
      "cell_type": "code",
      "source": [
        "names = [\"TARUN\", \"TIWARI\", \"PYTHON\", \"JAVA\", \"JAWA\", \"XYZZ\"]"
      ],
      "metadata": {
        "id": "w3lxlWJ5S9kE"
      },
      "execution_count": 6,
      "outputs": []
    },
    {
      "cell_type": "code",
      "source": [
        "for i in names:\n",
        "  print(i.lower())"
      ],
      "metadata": {
        "colab": {
          "base_uri": "https://localhost:8080/"
        },
        "id": "pqF9ma9wTGVK",
        "outputId": "4746f39f-cff8-4ed5-fbd7-e3d90777522c"
      },
      "execution_count": 7,
      "outputs": [
        {
          "output_type": "stream",
          "name": "stdout",
          "text": [
            "tarun\n",
            "tiwari\n",
            "python\n",
            "java\n",
            "jawa\n",
            "xyzz\n"
          ]
        }
      ]
    },
    {
      "cell_type": "code",
      "source": [
        "[i.capitalize() for i in names]"
      ],
      "metadata": {
        "colab": {
          "base_uri": "https://localhost:8080/"
        },
        "id": "1auMAf8vRGJU",
        "outputId": "009c3b76-4d0c-436d-ace4-5ccd80f50c74"
      },
      "execution_count": 8,
      "outputs": [
        {
          "output_type": "execute_result",
          "data": {
            "text/plain": [
              "['Tarun', 'Tiwari', 'Python', 'Java', 'Jawa', 'Xyzz']"
            ]
          },
          "metadata": {},
          "execution_count": 8
        }
      ]
    },
    {
      "cell_type": "code",
      "source": [
        "[i.lower() for i in names]"
      ],
      "metadata": {
        "colab": {
          "base_uri": "https://localhost:8080/"
        },
        "id": "VFh7Pp6nTbyJ",
        "outputId": "b32e224c-1e6e-4647-ea5f-64107167650a"
      },
      "execution_count": null,
      "outputs": [
        {
          "output_type": "execute_result",
          "data": {
            "text/plain": [
              "['tarun', 'tiwari', 'python', 'java', 'jawa', 'xyzz']"
            ]
          },
          "metadata": {},
          "execution_count": 31
        }
      ]
    },
    {
      "cell_type": "code",
      "source": [],
      "metadata": {
        "id": "MYUap313T9bl"
      },
      "execution_count": null,
      "outputs": []
    },
    {
      "cell_type": "code",
      "source": [
        "[f\"SQ {i*i}\" for i in counting]"
      ],
      "metadata": {
        "colab": {
          "base_uri": "https://localhost:8080/"
        },
        "id": "AdZNXUClSfcR",
        "outputId": "64bd86d6-8672-40cf-8a83-9a2c4cb4a9b7"
      },
      "execution_count": 9,
      "outputs": [
        {
          "output_type": "execute_result",
          "data": {
            "text/plain": [
              "['SQ 0',\n",
              " 'SQ 1',\n",
              " 'SQ 4',\n",
              " 'SQ 9',\n",
              " 'SQ 16',\n",
              " 'SQ 25',\n",
              " 'SQ 36',\n",
              " 'SQ 49',\n",
              " 'SQ 64',\n",
              " 'SQ 81',\n",
              " 'SQ 100',\n",
              " 'SQ 121',\n",
              " 'SQ 144',\n",
              " 'SQ 169',\n",
              " 'SQ 196',\n",
              " 'SQ 225',\n",
              " 'SQ 256',\n",
              " 'SQ 289',\n",
              " 'SQ 324',\n",
              " 'SQ 361']"
            ]
          },
          "metadata": {},
          "execution_count": 9
        }
      ]
    },
    {
      "cell_type": "code",
      "source": [
        "[f\"SQ {i*i}\" for i in counting]"
      ],
      "metadata": {
        "colab": {
          "base_uri": "https://localhost:8080/"
        },
        "id": "_j5Ng37URue1",
        "outputId": "88bae5cf-9959-434c-a352-a42f822ff4dd"
      },
      "execution_count": null,
      "outputs": [
        {
          "output_type": "execute_result",
          "data": {
            "text/plain": [
              "['SQ 0',\n",
              " 'SQ 1',\n",
              " 'SQ 4',\n",
              " 'SQ 9',\n",
              " 'SQ 16',\n",
              " 'SQ 25',\n",
              " 'SQ 36',\n",
              " 'SQ 49',\n",
              " 'SQ 64',\n",
              " 'SQ 81',\n",
              " 'SQ 100',\n",
              " 'SQ 121',\n",
              " 'SQ 144',\n",
              " 'SQ 169',\n",
              " 'SQ 196',\n",
              " 'SQ 225',\n",
              " 'SQ 256',\n",
              " 'SQ 289',\n",
              " 'SQ 324',\n",
              " 'SQ 361']"
            ]
          },
          "metadata": {},
          "execution_count": 23
        }
      ]
    },
    {
      "cell_type": "code",
      "source": [
        "for ml in ages:\n",
        "    print(ml)\n"
      ],
      "metadata": {
        "colab": {
          "base_uri": "https://localhost:8080/"
        },
        "id": "ynLoa0llPF1C",
        "outputId": "701d8aba-4280-4897-8650-3a789a50225f"
      },
      "execution_count": 11,
      "outputs": [
        {
          "output_type": "stream",
          "name": "stdout",
          "text": [
            "1\n",
            "2\n",
            "3\n",
            "4\n",
            "5\n",
            "6\n",
            "7\n",
            "8\n",
            "9\n",
            "10\n",
            "22\n",
            "23\n",
            "34\n",
            "45\n",
            "56\n",
            "78\n"
          ]
        }
      ]
    },
    {
      "cell_type": "code",
      "source": [
        "# list of string\n",
        "names = [\"TARUN\", \"TIWARI\", \"PYTHON\", \"JAVA\", \"JAWA\", \"XYZZ\"]\n",
        "\n",
        "# list of int\n",
        "# ages = [1,2 3,4 5 66]\n",
        "\n",
        "for n in names:\n",
        "  print(n)"
      ],
      "metadata": {
        "colab": {
          "base_uri": "https://localhost:8080/"
        },
        "id": "6VXEDqLgSF8h",
        "outputId": "a83753df-6db7-4827-b28c-344fbe93bce9"
      },
      "execution_count": 16,
      "outputs": [
        {
          "output_type": "stream",
          "name": "stdout",
          "text": [
            "TARUN\n",
            "TIWARI\n",
            "PYTHON\n",
            "JAVA\n",
            "JAWA\n",
            "XYZZ\n"
          ]
        }
      ]
    },
    {
      "cell_type": "code",
      "source": [
        "stt = \"My Name is Tarun\"\n",
        "\n",
        "for i in stt:\n",
        "  print(i)"
      ],
      "metadata": {
        "colab": {
          "base_uri": "https://localhost:8080/"
        },
        "id": "nngfqfblP22y",
        "outputId": "8802f71d-2a2b-4ba0-a60c-4f596a998fd0"
      },
      "execution_count": 14,
      "outputs": [
        {
          "output_type": "stream",
          "name": "stdout",
          "text": [
            "M\n",
            "y\n",
            " \n",
            "N\n",
            "a\n",
            "m\n",
            "e\n",
            " \n",
            "i\n",
            "s\n",
            " \n",
            "T\n",
            "a\n",
            "r\n",
            "u\n",
            "n\n"
          ]
        }
      ]
    },
    {
      "cell_type": "code",
      "source": [
        "for i in ages:\n",
        "  print(\"AGES ARE:\", i)\n",
        "print(\"helllo\")"
      ],
      "metadata": {
        "colab": {
          "base_uri": "https://localhost:8080/"
        },
        "id": "2cyRIeaaNpcR",
        "outputId": "a1fa978f-51bc-4db0-e55a-fb620c169b03"
      },
      "execution_count": null,
      "outputs": [
        {
          "output_type": "stream",
          "name": "stdout",
          "text": [
            "AGES ARE: 1\n",
            "AGES ARE: 2\n",
            "AGES ARE: 3\n",
            "AGES ARE: 4\n",
            "AGES ARE: 5\n",
            "AGES ARE: 6\n",
            "AGES ARE: 7\n",
            "AGES ARE: 8\n",
            "AGES ARE: 9\n",
            "AGES ARE: 10\n",
            "AGES ARE: 22\n",
            "AGES ARE: 23\n",
            "AGES ARE: 34\n",
            "AGES ARE: 45\n",
            "AGES ARE: 56\n",
            "AGES ARE: 78\n",
            "helllo\n"
          ]
        }
      ]
    },
    {
      "cell_type": "code",
      "source": [
        "counts = list(range(1000))"
      ],
      "metadata": {
        "id": "zJ4ZxM8kURX9"
      },
      "execution_count": null,
      "outputs": []
    },
    {
      "cell_type": "code",
      "source": [
        "import time\n",
        "\n",
        "start = time.time()\n",
        "\n",
        "for i in counts:\n",
        "  i*i\n",
        "\n",
        "end = time.time()\n",
        "\n",
        "print(end-start)"
      ],
      "metadata": {
        "id": "5KCcN1c8NxBS",
        "colab": {
          "base_uri": "https://localhost:8080/"
        },
        "outputId": "23ae5306-5440-4d65-c398-c096273b1a59"
      },
      "execution_count": null,
      "outputs": [
        {
          "output_type": "stream",
          "name": "stdout",
          "text": [
            "0.0003108978271484375\n"
          ]
        }
      ]
    },
    {
      "cell_type": "code",
      "source": [
        "import time\n",
        "\n",
        "start = time.time()\n",
        "\n",
        "[i*i for i in counts]\n",
        "\n",
        "end = time.time()\n",
        "\n",
        "print(end-start)"
      ],
      "metadata": {
        "colab": {
          "base_uri": "https://localhost:8080/"
        },
        "id": "Wo1YCddDUHua",
        "outputId": "7e5bfd95-edfe-4b76-f6b4-a3c9de0b1991"
      },
      "execution_count": null,
      "outputs": [
        {
          "output_type": "stream",
          "name": "stdout",
          "text": [
            "0.0023360252380371094\n"
          ]
        }
      ]
    },
    {
      "cell_type": "code",
      "source": [
        "min(counts)"
      ],
      "metadata": {
        "colab": {
          "base_uri": "https://localhost:8080/"
        },
        "id": "MKaIpPaoUowK",
        "outputId": "ccfebf5b-5e5b-4966-9b1e-4a2960db91e7"
      },
      "execution_count": null,
      "outputs": [
        {
          "output_type": "execute_result",
          "data": {
            "text/plain": [
              "0"
            ]
          },
          "metadata": {},
          "execution_count": 42
        }
      ]
    },
    {
      "cell_type": "code",
      "source": [
        "max(counts)"
      ],
      "metadata": {
        "colab": {
          "base_uri": "https://localhost:8080/"
        },
        "id": "_VzDzmq-VlHq",
        "outputId": "3436c9c6-33d6-4d72-f0bf-2a38fc90962a"
      },
      "execution_count": null,
      "outputs": [
        {
          "output_type": "execute_result",
          "data": {
            "text/plain": [
              "999"
            ]
          },
          "metadata": {},
          "execution_count": 43
        }
      ]
    },
    {
      "cell_type": "code",
      "source": [
        "sum(counts)"
      ],
      "metadata": {
        "colab": {
          "base_uri": "https://localhost:8080/"
        },
        "id": "D324arJFVsAn",
        "outputId": "52340ad3-75de-4ec2-ee37-0eb4f467cb30"
      },
      "execution_count": null,
      "outputs": [
        {
          "output_type": "execute_result",
          "data": {
            "text/plain": [
              "499500"
            ]
          },
          "metadata": {},
          "execution_count": 44
        }
      ]
    },
    {
      "cell_type": "code",
      "source": [
        "# list of list\n",
        "dimen = [[2, 3], [4, 5], [6, 7]]"
      ],
      "metadata": {
        "id": "ycYNo8SoVuzC"
      },
      "execution_count": 17,
      "outputs": []
    },
    {
      "cell_type": "code",
      "source": [
        "print(dimen)"
      ],
      "metadata": {
        "colab": {
          "base_uri": "https://localhost:8080/"
        },
        "id": "LyYVraGAWCGn",
        "outputId": "55244266-09cc-44f3-99b1-517bf7c1efd2"
      },
      "execution_count": 18,
      "outputs": [
        {
          "output_type": "stream",
          "name": "stdout",
          "text": [
            "[[2, 3], [4, 5], [6, 7]]\n"
          ]
        }
      ]
    },
    {
      "cell_type": "code",
      "source": [
        "len(dimen)"
      ],
      "metadata": {
        "colab": {
          "base_uri": "https://localhost:8080/"
        },
        "id": "ljH3JKDUWDKv",
        "outputId": "6ee9251d-be2c-4015-9655-1bcd6eec734c"
      },
      "execution_count": null,
      "outputs": [
        {
          "output_type": "execute_result",
          "data": {
            "text/plain": [
              "3"
            ]
          },
          "metadata": {},
          "execution_count": 47
        }
      ]
    },
    {
      "cell_type": "code",
      "source": [
        "dimen[0][1]"
      ],
      "metadata": {
        "colab": {
          "base_uri": "https://localhost:8080/"
        },
        "id": "5lHao7mLTNoK",
        "outputId": "f78bb9c3-4f4e-409c-c7a2-d68a5c9143e3"
      },
      "execution_count": 19,
      "outputs": [
        {
          "output_type": "execute_result",
          "data": {
            "text/plain": [
              "3"
            ]
          },
          "metadata": {},
          "execution_count": 19
        }
      ]
    },
    {
      "cell_type": "code",
      "source": [
        "dimen[0][1] = 99"
      ],
      "metadata": {
        "id": "C4UYjUw-WFPq"
      },
      "execution_count": 20,
      "outputs": []
    },
    {
      "cell_type": "code",
      "source": [
        "dimen"
      ],
      "metadata": {
        "colab": {
          "base_uri": "https://localhost:8080/"
        },
        "id": "ifeydbi9WH8b",
        "outputId": "f1e18b9a-7e3d-40e0-8fde-db89243c6a23"
      },
      "execution_count": 21,
      "outputs": [
        {
          "output_type": "execute_result",
          "data": {
            "text/plain": [
              "[[2, 99], [4, 5], [6, 7]]"
            ]
          },
          "metadata": {},
          "execution_count": 21
        }
      ]
    },
    {
      "cell_type": "code",
      "source": [
        "# list, we can change values of list throughout life of program, as this called mutable\n",
        "# tuple, we can't changes values of tuple, as this callled immutable"
      ],
      "metadata": {
        "id": "eb5WBq4qWR7g"
      },
      "execution_count": null,
      "outputs": []
    },
    {
      "cell_type": "code",
      "source": [
        "dim = (1, 2, 34, 1.33, \"start\", [1,2, 3])"
      ],
      "metadata": {
        "id": "IiwZsJ6OXToS"
      },
      "execution_count": 23,
      "outputs": []
    },
    {
      "cell_type": "code",
      "source": [
        "dim"
      ],
      "metadata": {
        "colab": {
          "base_uri": "https://localhost:8080/"
        },
        "id": "J0wQB1GQXfeK",
        "outputId": "058aba6a-9c96-47cc-ae40-d98469afead2"
      },
      "execution_count": 24,
      "outputs": [
        {
          "output_type": "execute_result",
          "data": {
            "text/plain": [
              "(1, 2, 34, 1.33, 'start', [1, 2, 3])"
            ]
          },
          "metadata": {},
          "execution_count": 24
        }
      ]
    },
    {
      "cell_type": "code",
      "source": [
        "dim[2]"
      ],
      "metadata": {
        "colab": {
          "base_uri": "https://localhost:8080/"
        },
        "id": "XY0dxmG3XgoR",
        "outputId": "a349c604-2731-4d73-c397-83dc9a3128d8"
      },
      "execution_count": 28,
      "outputs": [
        {
          "output_type": "execute_result",
          "data": {
            "text/plain": [
              "34"
            ]
          },
          "metadata": {},
          "execution_count": 28
        }
      ]
    },
    {
      "cell_type": "code",
      "source": [],
      "metadata": {
        "id": "c2PwR7CEX8b4"
      },
      "execution_count": null,
      "outputs": []
    },
    {
      "cell_type": "code",
      "source": [
        "dim[0] ="
      ],
      "metadata": {
        "colab": {
          "base_uri": "https://localhost:8080/"
        },
        "id": "WKmmwfG0XpzM",
        "outputId": "a7b6e66e-fda6-4ec2-c94a-a156ca4e570e"
      },
      "execution_count": null,
      "outputs": [
        {
          "output_type": "execute_result",
          "data": {
            "text/plain": [
              "1"
            ]
          },
          "metadata": {},
          "execution_count": 61
        }
      ]
    },
    {
      "cell_type": "code",
      "source": [],
      "metadata": {
        "id": "sjJWjfq7XuzS"
      },
      "execution_count": null,
      "outputs": []
    }
  ]
}